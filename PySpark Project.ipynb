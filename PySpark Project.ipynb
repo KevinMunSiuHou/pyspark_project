{
 "cells": [
  {
   "cell_type": "code",
   "execution_count": 1,
   "id": "8a9ec79e-5bdc-434b-9b7c-d1617637a10f",
   "metadata": {},
   "outputs": [],
   "source": [
    "import os\n",
    "import sys\n",
    "from pyspark.sql import SparkSession\n",
    "from pyspark.sql.types import StructType, StructField, StringType\n",
    "from pyspark.sql.functions import from_json, col, regexp_replace, split, expr, from_unixtime, to_timestamp, from_utc_timestamp, date_format"
   ]
  },
  {
   "cell_type": "code",
   "execution_count": 2,
   "id": "78b59d31-e480-4d8e-bdaf-47dfa958a4f3",
   "metadata": {},
   "outputs": [],
   "source": [
    "#Declare environment\n",
    "os.environ['SPARK_HOME'] = \"C:/spark\"\n",
    "os.environ['HADOOP_HOME'] = \"C:/hadoop\"\n",
    "os.environ['PATH'] = \"C:/hadoop/bin\"\n",
    "os.environ[\"PYSPARK_PYTHON\"] = sys.executable      \n",
    "os.environ[\"PYSPARK_DRIVER_PYTHON\"] = sys.executable"
   ]
  },
  {
   "cell_type": "code",
   "execution_count": 3,
   "id": "8f90d10b-750e-4a46-a657-a0bb3e726179",
   "metadata": {},
   "outputs": [],
   "source": [
    "# Create Spark Session\n",
    "spark = SparkSession.builder.appName(\"JupyterPySpark\").getOrCreate()"
   ]
  },
  {
   "cell_type": "code",
   "execution_count": 4,
   "id": "546e4d2c-f493-4260-a14f-1cc842c6cbf7",
   "metadata": {},
   "outputs": [],
   "source": [
    "df = spark.read.json(\"C:/Users/Kevin Mun/Downloads/archive/cc_sample_transaction.json\")"
   ]
  },
  {
   "cell_type": "code",
   "execution_count": 5,
   "id": "9dc55dac-6523-40f4-aec8-c3b122bd556d",
   "metadata": {},
   "outputs": [
    {
     "name": "stdout",
     "output_type": "stream",
     "text": [
      "+----------+------+-------------+-----------+----------------+--------+----------------+----------------------+------------------+-----------+-------------+--------------------+--------------------+---------------------+--------------------+\n",
      "|Unnamed: 0|   amt|     category|     cc_bic|          cc_num|is_fraud|  merch_eff_time|merch_last_update_time|         merch_lat| merch_long|merch_zipcode|            merchant|     personal_detail|trans_date_trans_time|           trans_num|\n",
      "+----------+------+-------------+-----------+----------------+--------+----------------+----------------------+------------------+-----------+-------------+--------------------+--------------------+---------------------+--------------------+\n",
      "|         0|  4.97|     misc_net|CITIUS33CHI|2703186189652095|       0|1325376018798532|         1325376018666|         36.011293| -82.048315|        28705|fraud_Rippin, Kub...|{\"person_name\":\"J...|  2019-01-01 00:00:18|0b242abb623afc578...|\n",
      "|         1|107.23|  grocery_pos|   ADMDUS41|    630423337322|       0|1325376044867960|          132537604479|49.159046999999994|-118.186462|         NULL|fraud_Heller, Gut...|{\"person_name\":\"S...|  2019-01-01 00:00:44|1f76529f857473494...|\n",
      "|         2|220.11|entertainment|       Null|  38859492057661|       0|1325376051506840|         1325376051286|         43.150704|-112.154481|        83236|fraud_Lind-Buckridge|{\"person_name\":\"E...|  2019-01-01 00:00:51|a1a22d70485983eac...|\n",
      "|         3|  45.0|gas_transport|DEUTUS33TRF|3534093764340240|       0|1325376076794698|         1325376076365|         47.034331|-112.561071|         NULL|fraud_Kutch, Herm...|{\"person_name\":\"J...|  2019-01-01 00:01:16|6b849c168bdad6f86...|\n",
      "|         4| 41.96|     misc_pos|   APBCUS61| 375534208663984|       0|1325376186746376|          132537618681|         38.674999| -78.632459|        22844| fraud_Keeling-Crist|{\"person_name\":\"T...|  2019-01-01 00:03:06|a41d7549acf907893...|\n",
      "+----------+------+-------------+-----------+----------------+--------+----------------+----------------------+------------------+-----------+-------------+--------------------+--------------------+---------------------+--------------------+\n",
      "only showing top 5 rows\n"
     ]
    }
   ],
   "source": [
    "##Show first 5 row of the data\n",
    "df.show(5)"
   ]
  },
  {
   "cell_type": "code",
   "execution_count": 6,
   "id": "17b87a35-7c5d-44c3-8a26-30bb00c0e8d8",
   "metadata": {},
   "outputs": [
    {
     "data": {
      "text/plain": [
       "['Unnamed: 0',\n",
       " 'amt',\n",
       " 'category',\n",
       " 'cc_bic',\n",
       " 'cc_num',\n",
       " 'is_fraud',\n",
       " 'merch_eff_time',\n",
       " 'merch_last_update_time',\n",
       " 'merch_lat',\n",
       " 'merch_long',\n",
       " 'merch_zipcode',\n",
       " 'merchant',\n",
       " 'personal_detail',\n",
       " 'trans_date_trans_time',\n",
       " 'trans_num']"
      ]
     },
     "execution_count": 6,
     "metadata": {},
     "output_type": "execute_result"
    }
   ],
   "source": [
    "##Show data columns\n",
    "df.columns"
   ]
  },
  {
   "cell_type": "code",
   "execution_count": 7,
   "id": "9549972a",
   "metadata": {},
   "outputs": [],
   "source": [
    "##based on raw data there are few columns are in nested json data\n",
    "##Create a schema for nested json data\n",
    "personal_detail_schema = StructType([\n",
    "    StructField(\"person_name\", StringType(), True),\n",
    "    StructField(\"gender\", StringType(), True),\n",
    "    StructField(\"address\", StringType(), True),   # still a stringified JSON\n",
    "    StructField(\"lat\", StringType(), True),\n",
    "    StructField(\"long\", StringType(), True),\n",
    "    StructField(\"city_pop\", StringType(), True),\n",
    "    StructField(\"job\", StringType(), True),\n",
    "    StructField(\"dob\", StringType(), True)\n",
    "])\n",
    "\n",
    "address_schema = StructType([\n",
    "    StructField(\"street\", StringType(), True),\n",
    "    StructField(\"city\", StringType(), True),\n",
    "    StructField(\"state\", StringType(), True),\n",
    "    StructField(\"zip\", StringType(), True)\n",
    "])"
   ]
  },
  {
   "cell_type": "code",
   "execution_count": 8,
   "id": "0f05e2a1",
   "metadata": {},
   "outputs": [],
   "source": [
    "df_parsed = df.withColumn(\n",
    "    \"personal_detail_parsed\",\n",
    "    from_json(col(\"personal_detail\"), personal_detail_schema)\n",
    ")"
   ]
  },
  {
   "cell_type": "code",
   "execution_count": 9,
   "id": "3801b459",
   "metadata": {},
   "outputs": [],
   "source": [
    "df_final = df_parsed.withColumn(\n",
    "    \"address_parsed\",\n",
    "    from_json(col(\"personal_detail_parsed.address\"), address_schema)\n",
    ")"
   ]
  },
  {
   "cell_type": "code",
   "execution_count": 10,
   "id": "6183d975",
   "metadata": {},
   "outputs": [
    {
     "name": "stdout",
     "output_type": "stream",
     "text": [
      "+--------------------+--------------+-----+----------+\n",
      "|person_name         |city          |state|dob       |\n",
      "+--------------------+--------------+-----+----------+\n",
      "|Jennifer,Banks,eeeee|Moravian Falls|NC   |1988-03-09|\n",
      "|Stephanie,Gill,eeeee|Orient        |WA   |1978-06-21|\n",
      "|Edward@Sanchez      |Malad City    |ID   |1962-01-19|\n",
      "|Jeremy/White, !     |Boulder       |MT   |1967-01-12|\n",
      "|Tyler@Garcia        |Doe Hill      |VA   |1986-03-28|\n",
      "+--------------------+--------------+-----+----------+\n",
      "only showing top 5 rows\n"
     ]
    }
   ],
   "source": [
    "#Check on first 5 row extract from schema\n",
    "df_final.select(\n",
    "    col(\"personal_detail_parsed.person_name\"),\n",
    "    col(\"address_parsed.city\"),\n",
    "    col(\"address_parsed.state\"),\n",
    "    col(\"personal_detail_parsed.dob\")\n",
    ").show(5, False)"
   ]
  },
  {
   "cell_type": "code",
   "execution_count": 11,
   "id": "84cedcb5",
   "metadata": {},
   "outputs": [],
   "source": [
    "###From here, we notice person_name consist of unwanted symbol and random unwanted words.\n",
    "##To keep it simple, we will first remove the unwanted symbol and space to comma. \n",
    "\n",
    "df_clean_name = df_final.withColumn(\n",
    "    \"clean_name\", regexp_replace(col(\"personal_detail_parsed.person_name\"), \"[^a-zA-Z]\", \",\")\n",
    ")\n",
    "\n",
    "##After having the comma, we split into different level.\n",
    "df_clean_name = df_clean_name.withColumn(\n",
    "    \"parts\", split(col(\"clean_name\"), \",\")\n",
    ")\n",
    "\n",
    "##We will get the first two words appear in parts value. \n",
    "df_clean_name = df_clean_name.withColumn(\n",
    "    \"first\",\n",
    "    expr(\"filter(parts, x -> x != '')[0]\")\n",
    ").withColumn(\n",
    "    \"last\",\n",
    "    expr(\"filter(parts, x -> x != '')[1]\")\n",
    ")"
   ]
  },
  {
   "cell_type": "code",
   "execution_count": 12,
   "id": "0ddafc89",
   "metadata": {},
   "outputs": [
    {
     "data": {
      "text/plain": [
       "['Unnamed: 0',\n",
       " 'amt',\n",
       " 'category',\n",
       " 'cc_bic',\n",
       " 'cc_num',\n",
       " 'is_fraud',\n",
       " 'merch_eff_time',\n",
       " 'merch_last_update_time',\n",
       " 'merch_lat',\n",
       " 'merch_long',\n",
       " 'merch_zipcode',\n",
       " 'merchant',\n",
       " 'personal_detail',\n",
       " 'trans_date_trans_time',\n",
       " 'trans_num',\n",
       " 'personal_detail_parsed',\n",
       " 'address_parsed',\n",
       " 'clean_name',\n",
       " 'parts',\n",
       " 'first',\n",
       " 'last']"
      ]
     },
     "execution_count": 12,
     "metadata": {},
     "output_type": "execute_result"
    }
   ],
   "source": [
    "df_clean_name.columns"
   ]
  },
  {
   "cell_type": "code",
   "execution_count": 13,
   "id": "0d95d172",
   "metadata": {},
   "outputs": [
    {
     "name": "stdout",
     "output_type": "stream",
     "text": [
      "+----------------+----------------------+---------------------+\n",
      "|  merch_eff_time|merch_last_update_time|trans_date_trans_time|\n",
      "+----------------+----------------------+---------------------+\n",
      "|1325376018798532|         1325376018666|  2019-01-01 00:00:18|\n",
      "|1325376044867960|          132537604479|  2019-01-01 00:00:44|\n",
      "|1325376051506840|         1325376051286|  2019-01-01 00:00:51|\n",
      "|1325376076794698|         1325376076365|  2019-01-01 00:01:16|\n",
      "|1325376186746376|          132537618681|  2019-01-01 00:03:06|\n",
      "+----------------+----------------------+---------------------+\n",
      "only showing top 5 rows\n"
     ]
    }
   ],
   "source": [
    "df_clean_name.select(\n",
    "    col(\"merch_eff_time\"),\n",
    "    col(\"merch_last_update_time\"),\n",
    "    col(\"trans_date_trans_time\")).show(5)"
   ]
  },
  {
   "cell_type": "code",
   "execution_count": 14,
   "id": "c375609f",
   "metadata": {},
   "outputs": [],
   "source": [
    "##Based on raw data merch column is still in big integers which will need to \n",
    "##1. convert from microsecond to second \n",
    "df_clean_time = df_clean_name.withColumn(\"merch_eff_time_ts\", (col(\"merch_eff_time\") / 1_000_000).cast(\"double\"))\n",
    "df_clean_time = df_clean_time.withColumn(\"merch_last_update_time_ts\", (col(\"merch_last_update_time\") / 1_000_000).cast(\"double\"))\n",
    "\n",
    "##2. convert to human readable timestamp UTC+8\n",
    "df_clean_time = df_clean_time.withColumn(\n",
    "    \"merch_eff_time\",\n",
    "    date_format(\n",
    "        from_utc_timestamp(from_unixtime(col(\"merch_eff_time_ts\")), \"Asia/Singapore\"),\n",
    "        \"yyyy-MM-dd HH:mm:ss.SSSSSS XXX\"\n",
    "    )\n",
    ")\n",
    "\n",
    "df_clean_time = df_clean_time.withColumn(\n",
    "    \"merch_last_update_time\",\n",
    "    date_format(\n",
    "        from_utc_timestamp(from_unixtime(col(\"merch_last_update_time_ts\")), \"Asia/Singapore\"),\n",
    "        \"yyyy-MM-dd HH:mm:ss.SSSSSS XXX\"\n",
    "    )\n",
    ")\n",
    "\n",
    "##for trans_date_trans_time column it is already in timestamp format so\n",
    "##Convert string timestamp column\n",
    "df_clean_time = df_clean_time.withColumn(\n",
    "    \"trans_date_trans_time\",\n",
    "    date_format(\n",
    "        from_utc_timestamp(to_timestamp(col(\"trans_date_trans_time\")), \"Asia/Singapore\"),\n",
    "        \"yyyy-MM-dd HH:mm:ss.SSSSSS XXX\"\n",
    "    )\n",
    ")"
   ]
  },
  {
   "cell_type": "code",
   "execution_count": 15,
   "id": "2e743a2d",
   "metadata": {},
   "outputs": [
    {
     "name": "stdout",
     "output_type": "stream",
     "text": [
      "+----------+---------------------------------+----------------+----------------------------------+-------------+------+---------+--------+------+------------------------------+--------------+-----+-----+-------+------------------+--------+---------------------------------+----------+--------------------------------+------------------+------------------+--------+-------------+---------------------------------+---------------------------------+-----------+\n",
      "|Unnamed: 0|trans_date_trans_time            |cc_num          |merchant                          |category     |amt   |first    |last    |gender|street                        |city          |state|zip  |lat    |long              |city_pop|job                              |dob       |trans_num                       |merch_lat         |merch_long        |is_fraud|merch_zipcode|merch_last_update_time           |merch_eff_time                   |cc_bic     |\n",
      "+----------+---------------------------------+----------------+----------------------------------+-------------+------+---------+--------+------+------------------------------+--------------+-----+-----+-------+------------------+--------+---------------------------------+----------+--------------------------------+------------------+------------------+--------+-------------+---------------------------------+---------------------------------+-----------+\n",
      "|0         |2019-01-01 08:00:18.000000 +08:00|2703186189652095|fraud_Rippin, Kub and Mann        |misc_net     |4.97  |Jennifer |Banks   |F     |561 Perry Cove                |Moravian Falls|NC   |28654|36.0788|-81.1781          |3495    |Psychologist, counselling        |1988-03-09|0b242abb623afc578575680df30655b9|36.011293         |-82.048315        |0       |28705        |1970-01-16 23:09:36.000000 +07:30|2012-01-01 16:00:18.000000 +08:00|CITIUS33CHI|\n",
      "|1         |2019-01-01 08:00:44.000000 +08:00|630423337322    |fraud_Heller, Gutmann and Zieme   |grocery_pos  |107.23|Stephanie|Gill    |F     |43039 Riley Greens Suite 393  |Orient        |WA   |99160|48.8878|-118.2105         |149     |Special educational needs teacher|1978-06-21|1f76529f8574734946361c461b024d99|49.159046999999994|-118.186462       |0       |NULL         |1970-01-03 03:48:57.000000 +07:30|2012-01-01 16:00:44.000000 +08:00|ADMDUS41   |\n",
      "|2         |2019-01-01 08:00:51.000000 +08:00|38859492057661  |fraud_Lind-Buckridge              |entertainment|220.11|Edward   |Sanchez |M     |594 White Dale Suite 530      |Malad City    |ID   |83252|42.1808|-112.262          |4154    |Nature conservation officer      |1962-01-19|a1a22d70485983eac12b5b88dad1cf95|43.150704         |-112.154481       |0       |83236        |1970-01-16 23:09:36.000000 +07:30|2012-01-01 16:00:51.000000 +08:00|Null       |\n",
      "|3         |2019-01-01 08:01:16.000000 +08:00|3534093764340240|fraud_Kutch, Hermiston and Farrell|gas_transport|45.0  |Jeremy   |White   |M     |9443 Cynthia Court Apt. 038   |Boulder       |MT   |59632|46.2306|-112.1138         |1939    |Patent attorney                  |1967-01-12|6b849c168bdad6f867558c3793159a81|47.034331         |-112.561071       |0       |NULL         |1970-01-16 23:09:36.000000 +07:30|2012-01-01 16:01:16.000000 +08:00|DEUTUS33TRF|\n",
      "|4         |2019-01-01 08:03:06.000000 +08:00|375534208663984 |fraud_Keeling-Crist               |misc_pos     |41.96 |Tyler    |Garcia  |M     |408 Bradley Rest              |Doe Hill      |VA   |24433|38.4207|-79.4629          |99      |Dance movement psychotherapist   |1986-03-28|a41d7549acf90789359a9aa5346dcb46|38.674999         |-78.632459        |0       |22844        |1970-01-03 03:48:57.000000 +07:30|2012-01-01 16:03:06.000000 +08:00|APBCUS61   |\n",
      "|5         |2019-01-01 08:04:08.000000 +08:00|4767265376804500|fraud_Stroman, Hudson and Erdman  |gas_transport|94.63 |Jennifer |Conner  |F     |4655 David Island             |Dublin        |PA   |18917|40.375 |-75.2045          |2158    |Transport planner                |1961-06-19|189a841a0a8ba03058526bcfe566aab5|40.653382         |-76.15266700000001|0       |17972        |1970-01-16 23:09:36.000000 +07:30|2012-01-01 16:04:08.000000 +08:00|APBCUS61   |\n",
      "|6         |2019-01-01 08:04:42.000000 +08:00|30074693890476  |fraud_Rowe-Vandervort             |grocery_net  |44.54 |Kelsey   |Richards|F     |889 Sarah Station Suite 624   |Holcomb       |KS   |67851|37.9931|-100.9893         |2691    |Arboriculturist                  |1993-08-16|83ec1cc84142af6e2acf10c44949e720|37.162704999999995|-100.15337        |0       |NULL         |1970-01-16 23:09:36.000000 +07:30|2012-01-01 16:04:42.000000 +08:00|APBCUS61   |\n",
      "|7         |2019-01-01 08:05:08.000000 +08:00|6011360759745864|fraud_Corwin-Collins              |gas_transport|71.65 |Steven   |Williams|M     |231 Flores Pass Suite 720     |Edinburg      |VA   |22824|38.8432|-78.6003          |6018    |Designer, multimedia             |1947-08-21|6d294ed2cc447d2c71c7171a3d54967c|38.948089         |-78.540296        |0       |22644        |1970-01-16 23:09:36.000000 +07:30|2012-01-01 16:05:08.000000 +08:00|NA         |\n",
      "|8         |2019-01-01 08:05:18.000000 +08:00|4922710831011201|fraud_Herzog Ltd                  |misc_pos     |4.27  |Heather  |Chase   |F     |6888 Hicks Stream Suite 954   |Manor         |PA   |15665|40.3359|-79.6607          |1472    |Public affairs consultant        |1941-03-07|fc28024ce480f8ef21a32d64c93a29f5|40.351813         |-79.958146        |0       |15236        |1970-01-16 23:09:36.000000 +07:30|2012-01-01 16:05:18.000000 +08:00|ACEEUS31   |\n",
      "|9         |2019-01-01 08:06:01.000000 +08:00|2720830304681674|fraud_Schoen, Kuphal and Nitzsche |grocery_pos  |198.39|Melissa  |Aguilar |F     |21326 Taylor Squares Suite 708|Clarksville   |TN   |37040|36.522 |-87.34899999999999|151785  |Pathologist                      |1974-03-28|3b9014ea8fb80bd65de0b1463b00b00e|37.179198         |-87.485381        |0       |42442        |1970-01-16 23:09:36.000000 +07:30|2012-01-01 16:06:01.000000 +08:00|DEUTUS33TRF|\n",
      "+----------+---------------------------------+----------------+----------------------------------+-------------+------+---------+--------+------+------------------------------+--------------+-----+-----+-------+------------------+--------+---------------------------------+----------+--------------------------------+------------------+------------------+--------+-------------+---------------------------------+---------------------------------+-----------+\n",
      "only showing top 10 rows\n"
     ]
    }
   ],
   "source": [
    "#Final results select wanted columns\n",
    "df_clean_time.select(\n",
    "    col(\"Unnamed: 0\"),\n",
    "    col(\"trans_date_trans_time\"),\n",
    "    col(\"cc_num\"),\n",
    "    col(\"merchant\"),\n",
    "    col(\"category\"),\n",
    "    col(\"amt\"),\n",
    "    col(\"first\"),\n",
    "    col(\"last\"),\n",
    "    col(\"personal_detail_parsed.gender\"),\n",
    "    col(\"address_parsed.street\"),\n",
    "    col(\"address_parsed.city\"),\n",
    "    col(\"address_parsed.state\"),\n",
    "    col(\"address_parsed.zip\"),\n",
    "    col(\"personal_detail_parsed.lat\"),\n",
    "    col(\"personal_detail_parsed.long\"),\n",
    "    col(\"personal_detail_parsed.city_pop\"),\n",
    "    col(\"personal_detail_parsed.job\"),\n",
    "    col(\"personal_detail_parsed.dob\"),\n",
    "    col(\"trans_num\"),\n",
    "    col(\"merch_lat\"),\n",
    "    col(\"merch_long\"),\n",
    "    col(\"is_fraud\"),\n",
    "    col(\"merch_zipcode\"),\n",
    "    col(\"merch_last_update_time\"),\n",
    "    col(\"merch_eff_time\"),\n",
    "    col(\"cc_bic\")\n",
    ").show(10, False)"
   ]
  },
  {
   "cell_type": "code",
   "execution_count": 16,
   "id": "9c49d0cb",
   "metadata": {},
   "outputs": [],
   "source": [
    "final_df = df_clean_time.select(\n",
    "    col(\"Unnamed: 0\"),\n",
    "    col(\"trans_date_trans_time\"),\n",
    "    col(\"cc_num\"),\n",
    "    col(\"merchant\"),\n",
    "    col(\"category\"),\n",
    "    col(\"amt\"),\n",
    "    col(\"first\"),\n",
    "    col(\"last\"),\n",
    "    col(\"personal_detail_parsed.gender\"),\n",
    "    col(\"address_parsed.street\"),\n",
    "    col(\"address_parsed.city\"),\n",
    "    col(\"address_parsed.state\"),\n",
    "    col(\"address_parsed.zip\"),\n",
    "    col(\"personal_detail_parsed.lat\"),\n",
    "    col(\"personal_detail_parsed.long\"),\n",
    "    col(\"personal_detail_parsed.city_pop\"),\n",
    "    col(\"personal_detail_parsed.job\"),\n",
    "    col(\"personal_detail_parsed.dob\"),\n",
    "    col(\"trans_num\"),\n",
    "    col(\"merch_lat\"),\n",
    "    col(\"merch_long\"),\n",
    "    col(\"is_fraud\"),\n",
    "    col(\"merch_zipcode\"),\n",
    "    col(\"merch_last_update_time\"),\n",
    "    col(\"merch_eff_time\"),\n",
    "    col(\"cc_bic\")\n",
    ")"
   ]
  },
  {
   "cell_type": "code",
   "execution_count": 17,
   "id": "758be834",
   "metadata": {},
   "outputs": [
    {
     "data": {
      "image/png": "[encoded data removed]",
      "text/plain": [
       "<Figure size 720x432 with 1 Axes>"
      ]
     },
     "metadata": {
      "needs_background": "light"
     },
     "output_type": "display_data"
    }
   ],
   "source": [
    "##SHOW IN GRAPH\n",
    "from pyspark.sql import functions as F\n",
    "import matplotlib.pyplot as plt\n",
    "\n",
    "# --- 1. Fraud Rate by Category ---\n",
    "fraud_by_cat = (\n",
    "    final_df.groupBy(\"category\")\n",
    "      .agg(\n",
    "          F.count(\"*\").alias(\"total_txn\"),\n",
    "          F.sum(\"is_fraud\").alias(\"fraud_txn\"),\n",
    "          (F.sum(\"is_fraud\") / F.count(\"*\")).alias(\"fraud_rate\")\n",
    "      )\n",
    "      .orderBy(F.desc(\"fraud_rate\"))\n",
    ")\n",
    "\n",
    "# Convert to Pandas for plotting\n",
    "pdf = fraud_by_cat.toPandas()\n",
    "\n",
    "# --- 2. Plot ---\n",
    "plt.figure(figsize=(10, 6))\n",
    "plt.bar(pdf[\"category\"], pdf[\"fraud_rate\"], color=\"tomato\", alpha=0.7)\n",
    "\n",
    "plt.title(\"Fraud Rate by Merchant Category\", fontsize=14)\n",
    "plt.xlabel(\"Category\", fontsize=12)\n",
    "plt.ylabel(\"Fraud Rate (%)\", fontsize=12)\n",
    "plt.xticks(rotation=45, ha=\"right\")\n",
    "\n",
    "# Format Y-axis as percentage\n",
    "plt.gca().yaxis.set_major_formatter(plt.FuncFormatter(lambda y, _: '{:.0%}'.format(y)))\n",
    "\n",
    "plt.tight_layout()\n",
    "plt.show()"
   ]
  }
 ],
 "metadata": {
  "kernelspec": {
   "display_name": "pyspark_env",
   "language": "python",
   "name": "pyspark_env"
  },
  "language_info": {
   "codemirror_mode": {
    "name": "ipython",
    "version": 3
   },
   "file_extension": ".py",
   "mimetype": "text/x-python",
   "name": "python",
   "nbconvert_exporter": "python",
   "pygments_lexer": "ipython3",
   "version": "3.10.8"
  }
 },
 "nbformat": 4,
 "nbformat_minor": 5
}
